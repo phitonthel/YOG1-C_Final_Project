{
  "nbformat": 4,
  "nbformat_minor": 0,
  "metadata": {
    "colab": {
      "name": "Baseline CNN WITH Image Augmentation",
      "provenance": [],
      "collapsed_sections": [],
      "include_colab_link": true
    },
    "kernelspec": {
      "name": "python3",
      "display_name": "Python 3"
    }
  },
  "cells": [
    {
      "cell_type": "markdown",
      "metadata": {
        "id": "view-in-github",
        "colab_type": "text"
      },
      "source": [
        "<a href=\"https://colab.research.google.com/github/phitonthel/YOG1-C_Final_Project/blob/master/Baseline_CNN_WITH_Image_Augmentation.ipynb\" target=\"_parent\"><img src=\"https://colab.research.google.com/assets/colab-badge.svg\" alt=\"Open In Colab\"/></a>"
      ]
    },
    {
      "cell_type": "code",
      "metadata": {
        "id": "-GUVkYJ_Tye-",
        "colab_type": "code",
        "colab": {}
      },
      "source": [
        "import os\n",
        "os.environ['KAGGLE_CONFIG_DIR'] = \"/content/\""
      ],
      "execution_count": null,
      "outputs": []
    },
    {
      "cell_type": "code",
      "metadata": {
        "id": "upj69ZfkUAGQ",
        "colab_type": "code",
        "colab": {
          "resources": {
            "http://localhost:8080/nbextensions/google.colab/files.js": {
              "data": "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",
              "ok": true,
              "headers": [
                [
                  "content-type",
                  "application/javascript"
                ]
              ],
              "status": 200,
              "status_text": "OK"
            }
          },
          "base_uri": "https://localhost:8080/",
          "height": 93
        },
        "outputId": "fe9e27a2-4fa7-4ab8-dcce-6202a1cb8664"
      },
      "source": [
        "# Run this cell and select the kaggle.json file downloaded\n",
        "# from the Kaggle account settings page.\n",
        "from google.colab import files\n",
        "files.upload()"
      ],
      "execution_count": null,
      "outputs": [
        {
          "output_type": "display_data",
          "data": {
            "text/html": [
              "\n",
              "     <input type=\"file\" id=\"files-361abd91-014f-4818-92ae-ec20dd11b247\" name=\"files[]\" multiple disabled\n",
              "        style=\"border:none\" />\n",
              "     <output id=\"result-361abd91-014f-4818-92ae-ec20dd11b247\">\n",
              "      Upload widget is only available when the cell has been executed in the\n",
              "      current browser session. Please rerun this cell to enable.\n",
              "      </output>\n",
              "      <script src=\"/nbextensions/google.colab/files.js\"></script> "
            ],
            "text/plain": [
              "<IPython.core.display.HTML object>"
            ]
          },
          "metadata": {
            "tags": []
          }
        },
        {
          "output_type": "stream",
          "text": [
            "Saving kaggle.json to kaggle.json\n"
          ],
          "name": "stdout"
        },
        {
          "output_type": "execute_result",
          "data": {
            "text/plain": [
              "{'kaggle.json': b'{\"username\":\"phitonthel\",\"key\":\"d9ea2b50c6ed0d87faec6a6446db15dd\"}'}"
            ]
          },
          "metadata": {
            "tags": []
          },
          "execution_count": 4
        }
      ]
    },
    {
      "cell_type": "code",
      "metadata": {
        "id": "nhNa3CNXUA8r",
        "colab_type": "code",
        "colab": {
          "base_uri": "https://localhost:8080/",
          "height": 496
        },
        "outputId": "b3fce0e0-5513-4b6d-b9ae-2201c380beef"
      },
      "source": [
        "# Let's make sure the kaggle.json file is present.\n",
        "!ls -lha kaggle.json\n",
        "\n",
        "# Next, install the Kaggle API client.\n",
        "!pip install -q kaggle\n",
        "\n",
        "# The Kaggle API client expects this file to be in ~/.kaggle,\n",
        "# so move it there.\n",
        "!mkdir -p ~/.kaggle\n",
        "!cp kaggle.json ~/.kaggle/\n",
        "\n",
        "# This permissions change avoids a warning on Kaggle tool startup.\n",
        "!chmod 600 ~/.kaggle/kaggle.json\n",
        "\n",
        "# List available datasets.\n",
        "!kaggle datasets list\n",
        "\n"
      ],
      "execution_count": null,
      "outputs": [
        {
          "output_type": "stream",
          "text": [
            "-rw-r--r-- 1 root root 66 Jun 22 09:37 kaggle.json\n",
            "Warning: Your Kaggle API key is readable by other users on this system! To fix this, you can run 'chmod 600 /content/kaggle.json'\n",
            "Warning: Looks like you're using an outdated API Version, please consider updating (server 1.5.6 / client 1.5.4)\n",
            "ref                                                             title                                                size  lastUpdated          downloadCount  \n",
            "--------------------------------------------------------------  --------------------------------------------------  -----  -------------------  -------------  \n",
            "allen-institute-for-ai/CORD-19-research-challenge               COVID-19 Open Research Dataset Challenge (CORD-19)    3GB  2020-06-19 00:27:19            883  \n",
            "roche-data-science-coalition/uncover                            UNCOVER COVID-19 Challenge                          179MB  2020-05-21 18:57:53           3525  \n",
            "kwullum/fatal-police-shootings-in-the-us                        Fatal Police Shootings in the US                      1MB  2017-09-22 19:18:21          16149  \n",
            "Cornell-University/arxiv                                        ArXiv Metadata                                        2GB  2020-05-06 23:18:35            104  \n",
            "sudalairajkumar/daily-temperature-of-major-cities               Daily Temperature of Major Cities                    13MB  2020-06-05 07:34:48           2078  \n",
            "thoolihan/los-angeles-1992-riot-deaths-from-la-times            Los Angeles 1992 Riot Deaths from LA Times           16KB  2020-06-03 21:09:07            300  \n",
            "yash612/stockmarket-sentiment-dataset                           Stock-Market Sentiment Dataset                      201KB  2020-06-05 19:16:19            829  \n",
            "imdevskp/hiv-aids-dataset                                       HIV AIDS Dataset                                     37KB  2020-06-11 12:59:45            569  \n",
            "batjoker/zomato-restaurants-hyderabad                           Zomato Restaurants Hyderabad                          1MB  2020-06-08 15:11:39            991  \n",
            "andrewmvd/global-education-statistics                           Global Education Statistics                          38MB  2020-06-06 04:35:48           1028  \n",
            "longnguyen2306/bacteria-detection-with-darkfield-microscopy     Bacteria detection with darkfield microscopy        162MB  2020-06-08 10:31:54            151  \n",
            "cprete/covid19-open-datasets-for-brazil                         COVID-19 Open Datasets for Brazil                   139MB  2020-06-07 15:36:31            383  \n",
            "mohitkr05/global-significant-earthquake-database-from-2150bc    Global Significant Earthquake Database from 2150BC  216KB  2020-06-08 09:41:18            477  \n",
            "jpmiller/police-violence-in-the-us                              US Police Violence & Fatal Shootings                 19MB  2020-06-16 14:19:33            411  \n",
            "paultimothymooney/minneapolis-police-stops-and-police-violence  Minneapolis Police Stops and Police Violence          8MB  2020-06-21 20:36:18              2  \n",
            "benroshan/factors-affecting-campus-placement                    Campus Recruitment                                    5KB  2020-04-11 11:09:02           8556  \n",
            "bobbyscience/league-of-legends-diamond-ranked-games-10-min      League of Legends Diamond Ranked Games (10 min)     539KB  2020-04-13 13:53:02           3590  \n",
            "fireballbyedimyrnmom/us-counties-covid-19-dataset               US counties COVID 19 dataset                          2MB  2020-06-21 13:38:08             30  \n",
            "divyansh22/flight-delay-prediction                              January Flight Delay Prediction                      23MB  2020-04-14 13:15:41           2915  \n",
            "clmentbisaillon/fake-and-real-news-dataset                      Fake and real news dataset                           41MB  2020-03-26 18:51:15           7394  \n"
          ],
          "name": "stdout"
        }
      ]
    },
    {
      "cell_type": "code",
      "metadata": {
        "id": "cNUoWQazUCC_",
        "colab_type": "code",
        "colab": {
          "base_uri": "https://localhost:8080/",
          "height": 90
        },
        "outputId": "cec488bc-ea43-4425-ba63-4bdb7fb6c95f"
      },
      "source": [
        "# Download the Kaggle Dataset\n",
        "!kaggle datasets download -d luisblanche/covidct"
      ],
      "execution_count": null,
      "outputs": [
        {
          "output_type": "stream",
          "text": [
            "Warning: Your Kaggle API key is readable by other users on this system! To fix this, you can run 'chmod 600 /content/kaggle.json'\n",
            "Downloading covidct.zip to /content\n",
            " 85% 73.0M/85.8M [00:01<00:00, 40.0MB/s]\n",
            "100% 85.8M/85.8M [00:02<00:00, 43.5MB/s]\n"
          ],
          "name": "stdout"
        }
      ]
    },
    {
      "cell_type": "code",
      "metadata": {
        "id": "Id1SJOaRUGKr",
        "colab_type": "code",
        "colab": {}
      },
      "source": [
        "import zipfile\n",
        "base_dir = '/content'\n",
        "data_dir = os.path.join(base_dir, 'data')\n",
        "local_zip = os.path.join(base_dir, 'covidct.zip')\n",
        "zip_ref = zipfile.ZipFile(local_zip, 'r')\n",
        "os.mkdir(data_dir)\n",
        "zip_ref.extractall(data_dir)\n",
        "zip_ref.close()"
      ],
      "execution_count": null,
      "outputs": []
    },
    {
      "cell_type": "code",
      "metadata": {
        "id": "vbca5gB3UHFy",
        "colab_type": "code",
        "colab": {}
      },
      "source": [
        "train_dir = os.path.join(data_dir, 'train')\n",
        "test_dir = os.path.join(data_dir, 'test')\n",
        "os.mkdir(train_dir)\n",
        "os.makedirs(os.path.join(test_dir, 'CT_COVID'))\n",
        "os.mkdir(os.path.join(test_dir, 'CT_NonCOVID'))"
      ],
      "execution_count": null,
      "outputs": []
    },
    {
      "cell_type": "code",
      "metadata": {
        "id": "BCNgDHufUIZj",
        "colab_type": "code",
        "colab": {}
      },
      "source": [
        "import random\n",
        "import math\n",
        "import shutil\n",
        "\n",
        "train_portion = .90\n",
        "\n",
        "def splitter(name):\n",
        "  data_path = os.path.join(data_dir, name)\n",
        "  temp = os.listdir(data_path)\n",
        "  random.shuffle(temp)\n",
        "  split = math.floor(len(temp) * train_portion)\n",
        "\n",
        "  test_tmp = temp[split:]\n",
        "\n",
        "  for i in test_tmp:\n",
        "    shutil.move(os.path.join(data_path, i), os.path.join(test_dir, name, i))\n",
        "  \n",
        "  shutil.move(data_path, train_dir)"
      ],
      "execution_count": null,
      "outputs": []
    },
    {
      "cell_type": "code",
      "metadata": {
        "id": "VU_t6bErUJf3",
        "colab_type": "code",
        "colab": {}
      },
      "source": [
        "splitter('CT_COVID')\n",
        "splitter('CT_NonCOVID')"
      ],
      "execution_count": null,
      "outputs": []
    },
    {
      "cell_type": "code",
      "metadata": {
        "id": "-cfBOFZHUKdf",
        "colab_type": "code",
        "colab": {
          "base_uri": "https://localhost:8080/",
          "height": 54
        },
        "outputId": "cbdca743-31aa-4a44-b641-9a3e0f1a263b"
      },
      "source": [
        "import tensorflow as tf\n",
        "import keras_preprocessing\n",
        "from keras_preprocessing.image import ImageDataGenerator\n",
        "\n",
        "train_datagen = ImageDataGenerator(\n",
        "    rescale=1./255,\n",
        "    rotation_range=20,\n",
        "    width_shift_range=0.1,\n",
        "    height_shift_range=0.1,\n",
        "    zoom_range=0.1,\n",
        "    horizontal_flip=True,\n",
        "    shear_range = 0.1,\n",
        "    fill_mode = 'nearest'\n",
        "    )\n",
        "     \n",
        "test_datagen = ImageDataGenerator(\n",
        "    rescale=1./255\n",
        "    )\n",
        "\n",
        "train_generator = train_datagen.flow_from_directory(\n",
        "\ttrain_dir,\n",
        "\ttarget_size=(150,150),\n",
        "\tclass_mode='binary',\n",
        "  batch_size= 61\n",
        ")\n",
        "\n",
        "test_generator = test_datagen.flow_from_directory(\n",
        "\ttest_dir,\n",
        "\ttarget_size=(150,150),\n",
        "\tclass_mode='binary',\n",
        "  batch_size=25\n",
        ")"
      ],
      "execution_count": null,
      "outputs": [
        {
          "output_type": "stream",
          "text": [
            "Found 671 images belonging to 2 classes.\n",
            "Found 75 images belonging to 2 classes.\n"
          ],
          "name": "stdout"
        }
      ]
    },
    {
      "cell_type": "code",
      "metadata": {
        "id": "sKNHDkxbUWlR",
        "colab_type": "code",
        "colab": {}
      },
      "source": [
        "class AccCallback(tf.keras.callbacks.Callback):\n",
        "  def on_epoch_end(self, epoch, logs={}):\n",
        "    if logs.get('accuracy') > .9:\n",
        "      self.model.stop_training = True"
      ],
      "execution_count": null,
      "outputs": []
    },
    {
      "cell_type": "code",
      "metadata": {
        "id": "4j6N-oOOULWJ",
        "colab_type": "code",
        "colab": {
          "base_uri": "https://localhost:8080/",
          "height": 495
        },
        "outputId": "4820c764-a9d5-40a8-eb20-b665de9a1716"
      },
      "source": [
        "from tensorflow.keras.optimizers import RMSprop\n",
        "\n",
        "# DEFINE A KERAS MODEL TO CLASSIFY COVID V NONCOVID\n",
        "model = tf.keras.models.Sequential([\n",
        "    tf.keras.layers.Conv2D(16, (3,3), activation='relu', input_shape=(150, 150, 3)),\n",
        "    tf.keras.layers.MaxPooling2D(2,2),\n",
        "    tf.keras.layers.Conv2D(32, (3,3), activation='relu'),\n",
        "    tf.keras.layers.MaxPooling2D(2,2), \n",
        "    tf.keras.layers.Conv2D(64, (3,3), activation='relu'), \n",
        "    tf.keras.layers.MaxPooling2D(2,2),\n",
        "    # Flatten the results to feed into a DNN\n",
        "    tf.keras.layers.Flatten(), \n",
        "    # 512 neuron hidden layer\n",
        "    tf.keras.layers.Dense(512, activation='relu'), \n",
        "    tf.keras.layers.Dense(1, activation='sigmoid')  \n",
        "])\n",
        "\n",
        "model.compile(optimizer=RMSprop(lr=0.001), loss='binary_crossentropy', metrics=['accuracy'])\n",
        "\n",
        "model.summary()"
      ],
      "execution_count": null,
      "outputs": [
        {
          "output_type": "stream",
          "text": [
            "Model: \"sequential\"\n",
            "_________________________________________________________________\n",
            "Layer (type)                 Output Shape              Param #   \n",
            "=================================================================\n",
            "conv2d (Conv2D)              (None, 148, 148, 16)      448       \n",
            "_________________________________________________________________\n",
            "max_pooling2d (MaxPooling2D) (None, 74, 74, 16)        0         \n",
            "_________________________________________________________________\n",
            "conv2d_1 (Conv2D)            (None, 72, 72, 32)        4640      \n",
            "_________________________________________________________________\n",
            "max_pooling2d_1 (MaxPooling2 (None, 36, 36, 32)        0         \n",
            "_________________________________________________________________\n",
            "conv2d_2 (Conv2D)            (None, 34, 34, 64)        18496     \n",
            "_________________________________________________________________\n",
            "max_pooling2d_2 (MaxPooling2 (None, 17, 17, 64)        0         \n",
            "_________________________________________________________________\n",
            "flatten (Flatten)            (None, 18496)             0         \n",
            "_________________________________________________________________\n",
            "dense (Dense)                (None, 512)               9470464   \n",
            "_________________________________________________________________\n",
            "dense_1 (Dense)              (None, 1)                 513       \n",
            "=================================================================\n",
            "Total params: 9,494,561\n",
            "Trainable params: 9,494,561\n",
            "Non-trainable params: 0\n",
            "_________________________________________________________________\n"
          ],
          "name": "stdout"
        }
      ]
    },
    {
      "cell_type": "code",
      "metadata": {
        "id": "vQTF3qGcUTHI",
        "colab_type": "code",
        "colab": {
          "base_uri": "https://localhost:8080/",
          "height": 1000
        },
        "outputId": "352c2da9-f64c-44ae-fc68-c892e8cb23e2"
      },
      "source": [
        "history = model.fit(train_generator, epochs=40, steps_per_epoch=3, validation_data = test_generator, verbose = 1, validation_steps=3,\n",
        "                    # callbacks=[AccCallback()]\n",
        "                    )"
      ],
      "execution_count": null,
      "outputs": [
        {
          "output_type": "stream",
          "text": [
            "Epoch 1/40\n",
            "3/3 [==============================] - 4s 1s/step - loss: 10.4553 - accuracy: 0.4863 - val_loss: 1.7817 - val_accuracy: 0.5333\n",
            "Epoch 2/40\n",
            "3/3 [==============================] - 4s 1s/step - loss: 1.1086 - accuracy: 0.5027 - val_loss: 0.7312 - val_accuracy: 0.5333\n",
            "Epoch 3/40\n",
            "3/3 [==============================] - 4s 1s/step - loss: 0.7010 - accuracy: 0.5574 - val_loss: 0.6934 - val_accuracy: 0.5333\n",
            "Epoch 4/40\n",
            "3/3 [==============================] - 4s 1s/step - loss: 0.7040 - accuracy: 0.5191 - val_loss: 0.7703 - val_accuracy: 0.5333\n",
            "Epoch 5/40\n",
            "3/3 [==============================] - 4s 1s/step - loss: 0.6900 - accuracy: 0.5464 - val_loss: 0.6978 - val_accuracy: 0.5067\n",
            "Epoch 6/40\n",
            "3/3 [==============================] - 4s 1s/step - loss: 0.7039 - accuracy: 0.4754 - val_loss: 0.6625 - val_accuracy: 0.6933\n",
            "Epoch 7/40\n",
            "3/3 [==============================] - 4s 1s/step - loss: 0.6566 - accuracy: 0.6503 - val_loss: 0.6527 - val_accuracy: 0.6933\n",
            "Epoch 8/40\n",
            "3/3 [==============================] - 4s 1s/step - loss: 0.6691 - accuracy: 0.6339 - val_loss: 0.6520 - val_accuracy: 0.5733\n",
            "Epoch 9/40\n",
            "3/3 [==============================] - 4s 1s/step - loss: 0.6510 - accuracy: 0.5956 - val_loss: 0.8670 - val_accuracy: 0.4800\n",
            "Epoch 10/40\n",
            "3/3 [==============================] - 4s 1s/step - loss: 0.7045 - accuracy: 0.5683 - val_loss: 0.6444 - val_accuracy: 0.6800\n",
            "Epoch 11/40\n",
            "3/3 [==============================] - 4s 1s/step - loss: 0.6720 - accuracy: 0.5738 - val_loss: 0.6473 - val_accuracy: 0.6133\n",
            "Epoch 12/40\n",
            "3/3 [==============================] - 4s 1s/step - loss: 0.6528 - accuracy: 0.6011 - val_loss: 0.6325 - val_accuracy: 0.7067\n",
            "Epoch 13/40\n",
            "3/3 [==============================] - 4s 1s/step - loss: 0.6618 - accuracy: 0.6175 - val_loss: 0.6312 - val_accuracy: 0.6533\n",
            "Epoch 14/40\n",
            "3/3 [==============================] - 4s 1s/step - loss: 0.6390 - accuracy: 0.6120 - val_loss: 0.6226 - val_accuracy: 0.6267\n",
            "Epoch 15/40\n",
            "3/3 [==============================] - 4s 1s/step - loss: 0.6366 - accuracy: 0.6230 - val_loss: 0.6234 - val_accuracy: 0.6533\n",
            "Epoch 16/40\n",
            "3/3 [==============================] - 4s 1s/step - loss: 0.6354 - accuracy: 0.6339 - val_loss: 0.6164 - val_accuracy: 0.7067\n",
            "Epoch 17/40\n",
            "3/3 [==============================] - 4s 1s/step - loss: 0.6791 - accuracy: 0.5410 - val_loss: 0.7530 - val_accuracy: 0.5333\n",
            "Epoch 18/40\n",
            "3/3 [==============================] - 4s 1s/step - loss: 0.6680 - accuracy: 0.5574 - val_loss: 0.6278 - val_accuracy: 0.6933\n",
            "Epoch 19/40\n",
            "3/3 [==============================] - 4s 1s/step - loss: 0.6603 - accuracy: 0.6230 - val_loss: 0.6302 - val_accuracy: 0.6400\n",
            "Epoch 20/40\n",
            "3/3 [==============================] - 4s 1s/step - loss: 0.6343 - accuracy: 0.6885 - val_loss: 0.6338 - val_accuracy: 0.6667\n",
            "Epoch 21/40\n",
            "3/3 [==============================] - 4s 1s/step - loss: 0.6295 - accuracy: 0.6667 - val_loss: 0.6008 - val_accuracy: 0.6800\n",
            "Epoch 22/40\n",
            "3/3 [==============================] - 4s 1s/step - loss: 0.6377 - accuracy: 0.6339 - val_loss: 0.6078 - val_accuracy: 0.6933\n",
            "Epoch 23/40\n",
            "3/3 [==============================] - 4s 1s/step - loss: 0.6212 - accuracy: 0.6612 - val_loss: 0.5922 - val_accuracy: 0.7200\n",
            "Epoch 24/40\n",
            "3/3 [==============================] - 4s 1s/step - loss: 0.6339 - accuracy: 0.6284 - val_loss: 0.5889 - val_accuracy: 0.6800\n",
            "Epoch 25/40\n",
            "3/3 [==============================] - 4s 1s/step - loss: 0.6026 - accuracy: 0.6776 - val_loss: 0.6081 - val_accuracy: 0.6933\n",
            "Epoch 26/40\n",
            "3/3 [==============================] - 4s 1s/step - loss: 0.6526 - accuracy: 0.6667 - val_loss: 0.5970 - val_accuracy: 0.6933\n",
            "Epoch 27/40\n",
            "3/3 [==============================] - 4s 1s/step - loss: 0.6417 - accuracy: 0.6066 - val_loss: 0.6011 - val_accuracy: 0.6533\n",
            "Epoch 28/40\n",
            "3/3 [==============================] - 4s 1s/step - loss: 0.6269 - accuracy: 0.6339 - val_loss: 1.1327 - val_accuracy: 0.5067\n",
            "Epoch 29/40\n",
            "3/3 [==============================] - 4s 1s/step - loss: 0.7856 - accuracy: 0.6011 - val_loss: 0.5895 - val_accuracy: 0.6933\n",
            "Epoch 30/40\n",
            "3/3 [==============================] - 4s 1s/step - loss: 0.5719 - accuracy: 0.6721 - val_loss: 0.6152 - val_accuracy: 0.6533\n",
            "Epoch 31/40\n",
            "3/3 [==============================] - 4s 1s/step - loss: 0.5850 - accuracy: 0.7158 - val_loss: 0.8196 - val_accuracy: 0.5733\n",
            "Epoch 32/40\n",
            "3/3 [==============================] - 4s 1s/step - loss: 0.6778 - accuracy: 0.6175 - val_loss: 0.7633 - val_accuracy: 0.5733\n",
            "Epoch 33/40\n",
            "3/3 [==============================] - 4s 1s/step - loss: 0.6515 - accuracy: 0.5956 - val_loss: 1.0171 - val_accuracy: 0.5333\n",
            "Epoch 34/40\n",
            "3/3 [==============================] - 4s 1s/step - loss: 0.7326 - accuracy: 0.5956 - val_loss: 0.5963 - val_accuracy: 0.7200\n",
            "Epoch 35/40\n",
            "3/3 [==============================] - 4s 1s/step - loss: 0.6052 - accuracy: 0.6885 - val_loss: 0.6162 - val_accuracy: 0.6933\n",
            "Epoch 36/40\n",
            "3/3 [==============================] - 4s 1s/step - loss: 0.5930 - accuracy: 0.6339 - val_loss: 0.5864 - val_accuracy: 0.6933\n",
            "Epoch 37/40\n",
            "3/3 [==============================] - 4s 1s/step - loss: 0.6244 - accuracy: 0.6503 - val_loss: 0.5934 - val_accuracy: 0.7467\n",
            "Epoch 38/40\n",
            "3/3 [==============================] - 4s 1s/step - loss: 0.6322 - accuracy: 0.6339 - val_loss: 0.6642 - val_accuracy: 0.5867\n",
            "Epoch 39/40\n",
            "3/3 [==============================] - 4s 1s/step - loss: 0.6674 - accuracy: 0.5902 - val_loss: 0.6136 - val_accuracy: 0.7333\n",
            "Epoch 40/40\n",
            "3/3 [==============================] - 4s 1s/step - loss: 0.6391 - accuracy: 0.6612 - val_loss: 0.6147 - val_accuracy: 0.7067\n"
          ],
          "name": "stdout"
        }
      ]
    },
    {
      "cell_type": "code",
      "metadata": {
        "id": "mlmPUUjKUcgD",
        "colab_type": "code",
        "colab": {
          "base_uri": "https://localhost:8080/",
          "height": 283
        },
        "outputId": "a69fae94-acd5-49f1-c09d-c8c5bc5adfe9"
      },
      "source": [
        "import matplotlib.pyplot as plt\n",
        "accuracy = history.history['accuracy']\n",
        "val_accuracy = history.history['val_accuracy']\n",
        "epochs = range(len(accuracy))\n",
        "plt.plot(epochs, accuracy, 'r', label='Training Accuracy')\n",
        "plt.plot(epochs, val_accuracy, 'b', label='Testing Accuracy')\n",
        "plt.legend(loc=0)\n",
        "plt.figure()\n",
        "plt.show()"
      ],
      "execution_count": null,
      "outputs": [
        {
          "output_type": "display_data",
          "data": {
            "image/png": "[encoded data removed]",
            "text/plain": [
              "<Figure size 432x288 with 1 Axes>"
            ]
          },
          "metadata": {
            "tags": [],
            "needs_background": "light"
          }
        },
        {
          "output_type": "display_data",
          "data": {
            "text/plain": [
              "<Figure size 432x288 with 0 Axes>"
            ]
          },
          "metadata": {
            "tags": []
          }
        }
      ]
    },
    {
      "cell_type": "code",
      "metadata": {
        "id": "kxYECbTjUeah",
        "colab_type": "code",
        "colab": {
          "base_uri": "https://localhost:8080/",
          "height": 283
        },
        "outputId": "2a862bc5-73b5-46ec-a832-fc7ea350b47f"
      },
      "source": [
        "loss = history.history['loss']\n",
        "val_loss = history.history['val_loss']\n",
        "epochs = range(len(accuracy))\n",
        "plt.plot(epochs, loss, 'g', label='Loss Training')\n",
        "plt.plot(epochs, val_loss, 'c', label='Loss Testing')\n",
        "plt.legend(loc=0)\n",
        "plt.figure()\n",
        "plt.show()"
      ],
      "execution_count": null,
      "outputs": [
        {
          "output_type": "display_data",
          "data": {
            "image/png": "[encoded data removed]",
            "text/plain": [
              "<Figure size 432x288 with 1 Axes>"
            ]
          },
          "metadata": {
            "tags": [],
            "needs_background": "light"
          }
        },
        {
          "output_type": "display_data",
          "data": {
            "text/plain": [
              "<Figure size 432x288 with 0 Axes>"
            ]
          },
          "metadata": {
            "tags": []
          }
        }
      ]
    },
    {
      "cell_type": "code",
      "metadata": {
        "id": "bPs0fZ5qUhHL",
        "colab_type": "code",
        "colab": {}
      },
      "source": [
        "# Save the entire model as a SavedModel.\n",
        "!mkdir -p saved_model\n",
        "\n",
        "saved_model_dir = 'saved_model/my_model'\n",
        "model.save(saved_model_dir) "
      ],
      "execution_count": null,
      "outputs": []
    },
    {
      "cell_type": "code",
      "metadata": {
        "id": "9lrAttVwUiiX",
        "colab_type": "code",
        "colab": {}
      },
      "source": [
        "converter = tf.lite.TFLiteConverter.from_saved_model(saved_model_dir)\n",
        "tflite_model = converter.convert()\n",
        "open(\"converted_model.tflite\", \"wb\").write(tflite_model)\n"
      ],
      "execution_count": null,
      "outputs": []
    },
    {
      "cell_type": "code",
      "metadata": {
        "id": "5ZW-AxteUkHD",
        "colab_type": "code",
        "colab": {}
      },
      "source": [
        "model.export(export_dir='.')"
      ],
      "execution_count": null,
      "outputs": []
    }
  ]
}